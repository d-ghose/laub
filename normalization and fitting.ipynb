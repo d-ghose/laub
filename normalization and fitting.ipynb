{
 "cells": [
  {
   "cell_type": "code",
   "execution_count": 1,
   "metadata": {
    "Collapsed": "false"
   },
   "outputs": [],
   "source": [
    "import pandas as pd\n",
    "import numpy as np\n",
    "import seaborn as sns\n",
    "import matplotlib.pyplot as plt\n",
    "import csv\n",
    "from scipy import optimize"
   ]
  },
  {
   "cell_type": "code",
   "execution_count": 2,
   "metadata": {
    "Collapsed": "false"
   },
   "outputs": [],
   "source": [
    "import scipy.stats as st"
   ]
  },
  {
   "cell_type": "code",
   "execution_count": 3,
   "metadata": {
    "Collapsed": "false"
   },
   "outputs": [],
   "source": [
    "from scipy.optimize import curve_fit"
   ]
  },
  {
   "cell_type": "code",
   "execution_count": 4,
   "metadata": {
    "Collapsed": "false"
   },
   "outputs": [],
   "source": [
    "#read in files, make arrays, normalize by read counts in bin, normalize by cells collected, plot replicate correlations"
   ]
  },
  {
   "cell_type": "markdown",
   "metadata": {
    "Collapsed": "true"
   },
   "source": [
    "## Read in files, make arrays, normalize"
   ]
  },
  {
   "cell_type": "code",
   "execution_count": 15,
   "metadata": {
    "Collapsed": "false"
   },
   "outputs": [],
   "source": [
    "filenames = pd.read_csv('filenames1.csv')"
   ]
  },
  {
   "cell_type": "code",
   "execution_count": 88,
   "metadata": {
    "Collapsed": "false"
   },
   "outputs": [],
   "source": [
    "array = np.zeros((144, 1201))"
   ]
  },
  {
   "cell_type": "code",
   "execution_count": 89,
   "metadata": {
    "Collapsed": "false"
   },
   "outputs": [],
   "source": [
    "for i in range(144):\n",
    "    filename = str(filenames.iloc[i, 0]) + '.csv'\n",
    "    counts = pd.read_csv(filename)\n",
    "    array[i][0] = int(counts.columns[1])\n",
    "    array[i][1:] = [counts.values[j][1] for j in range(1200)]"
   ]
  },
  {
   "cell_type": "code",
   "execution_count": 90,
   "metadata": {
    "Collapsed": "false"
   },
   "outputs": [],
   "source": [
    "array_transpose = np.transpose(array)"
   ]
  },
  {
   "cell_type": "code",
   "execution_count": 23,
   "metadata": {
    "Collapsed": "false"
   },
   "outputs": [],
   "source": [
    "totals = np.sum(array, axis=1)"
   ]
  },
  {
   "cell_type": "code",
   "execution_count": 24,
   "metadata": {
    "Collapsed": "false"
   },
   "outputs": [],
   "source": [
    "totals = totals.reshape(144,1)"
   ]
  },
  {
   "cell_type": "code",
   "execution_count": null,
   "metadata": {
    "Collapsed": "false"
   },
   "outputs": [],
   "source": [
    "#calculate read frequencies for variants in each bin\n",
    "norm_array = array/totals"
   ]
  },
  {
   "cell_type": "code",
   "execution_count": 92,
   "metadata": {
    "Collapsed": "false"
   },
   "outputs": [],
   "source": [
    "OmpR_cells = pd.read_csv('OmpR_cells.csv')\n",
    "RstA_cells = pd.read_csv('RstA_cells.csv')\n",
    "CpxR_cells = pd.read_csv('CpxR_cells.csv')"
   ]
  },
  {
   "cell_type": "code",
   "execution_count": 93,
   "metadata": {
    "Collapsed": "false"
   },
   "outputs": [],
   "source": [
    "OmpR_cells = OmpR_cells.iloc[:,1:]\n",
    "RstA_cells = RstA_cells.iloc[:,1:]\n",
    "CpxR_cells = CpxR_cells.iloc[:,1:]"
   ]
  },
  {
   "cell_type": "code",
   "execution_count": null,
   "metadata": {
    "Collapsed": "false"
   },
   "outputs": [],
   "source": [
    "OmpR_totals = OmpR_cells.values.sum(axis=1)\n",
    "OmpR_totals = OmpR_totals.reshape(6,1)\n",
    "OmpR_cells_freq = OmpR_cells.values/OmpR_totals\n",
    "\n",
    "RstA_totals = RstA_cells.values.sum(axis=1)\n",
    "RstA_totals = RstA_totals.reshape(6,1)\n",
    "RstA_cells_freq = RstA_cells.values/RstA_totals\n",
    "\n",
    "CpxR_totals = CpxR_cells.values.sum(axis=1)\n",
    "CpxR_totals = CpxR_totals.reshape(6,1)\n",
    "CpxR_cells_freq = CpxR_cells.values/CpxR_totals"
   ]
  },
  {
   "cell_type": "code",
   "execution_count": 94,
   "metadata": {
    "Collapsed": "false"
   },
   "outputs": [],
   "source": [
    "cells2_array = np.zeros((144,1))\n",
    "cells2_array[:48] = OmpR_cells_freq.reshape(48,1)\n",
    "cells2_array[48:96] = RstA_cells_freq.reshape(48,1)\n",
    "cells2_array[96:] = CpxR_cells_freq.reshape(48,1)"
   ]
  },
  {
   "cell_type": "code",
   "execution_count": null,
   "metadata": {
    "Collapsed": "false"
   },
   "outputs": [],
   "source": [
    "#normalize read frequencies by cells collected per bin\n",
    "norm_cell_array_4 = norm_array*cells2_array"
   ]
  },
  {
   "cell_type": "code",
   "execution_count": null,
   "metadata": {
    "Collapsed": "false"
   },
   "outputs": [],
   "source": [
    "norm_cell_4_transpose = np.transpose(norm_cell_array_4)"
   ]
  },
  {
   "cell_type": "markdown",
   "metadata": {
    "Collapsed": "true"
   },
   "source": [
    "## Replicate correlations"
   ]
  },
  {
   "cell_type": "code",
   "execution_count": null,
   "metadata": {
    "Collapsed": "false"
   },
   "outputs": [],
   "source": [
    "replicates = np.zeros((3,1201*16))\n",
    "replicates[0] = norm_cell_array_4[:16].reshape(1,1201*16)\n",
    "replicates[1] = norm_cell_array_4[16:32].reshape(1,1201*16)\n",
    "replicates[2] = norm_cell_array_4[32:48].reshape(1,1201*16)\n",
    "\n",
    "#plot OmpR replicate correlations\n",
    "for reps in [(0,1),(0,2),(1,2)]:\n",
    "    fig,ax = plt.subplots()\n",
    "    fig.set_size_inches(5,5)\n",
    "    plt.scatter(replicates[reps[0]][:], replicates[reps[1]][:],alpha = 0.1, rasterized = True, marker=\".\")\n",
    "    plt.xlabel(\"rep1icate\" + str(reps[0]+1))\n",
    "    plt.ylabel(\"rep1icate\" + str(reps[1]+1))\n",
    "    plt.xlim((1e-8,1))\n",
    "    plt.ylim((1e-8,1))\n",
    "    plt.semilogy()\n",
    "    plt.semilogx()\n",
    "    Rsquared = st.pearsonr(replicates[reps[0]], replicates[reps[1]])[0]\n",
    "    plt.title(\"Replicates %s-%s (R2 = %.3f)\" % (str(reps[0]+1), str(reps[1]+1), Rsquared))\n",
    "    #plt.savefig(\"norm_reads_OmpR reps %s-%s.pdf\" % reps, dpi = 500)"
   ]
  },
  {
   "cell_type": "markdown",
   "metadata": {
    "Collapsed": "true"
   },
   "source": [
    "## OmpR fitting functions"
   ]
  },
  {
   "cell_type": "code",
   "execution_count": 44,
   "metadata": {
    "Collapsed": "false"
   },
   "outputs": [],
   "source": [
    "#bimodal fitting distribution\n",
    "x3 = np.array([1,1.5,2,2.5,3,3.5,4,4.5])\n",
    "def fit_gauss_OmpR_bimodal(ind, title = False, \n",
    "              plot = False,              #plot double bar graph, with fitted Gaussian overlay\n",
    "              report_error = False,      #return error parameters from fitting\n",
    "              mode_norm = False,          #normalize plot, so bar graphs have equal y-max\n",
    "              plot_reps = False):        \n",
    "    \n",
    "    #extract normalized reads for query seq\n",
    "    a = np.zeros((2,16))\n",
    "    a[0,:8] = norm_cell_4_transpose[ind][:8]\n",
    "    a[0,8:] = norm_cell_4_transpose[ind][8:16]\n",
    "    a[1,:8] = norm_cell_4_transpose[ind][16:24]\n",
    "    a[1,8:] = norm_cell_4_transpose[ind][40:48]\n",
    "        \n",
    "    #calculate mean reads/bin\n",
    "    y1 = np.mean(a,axis = 0)[:8]\n",
    "    y2 = np.mean(a,axis = 0)[8:]\n",
    "    \n",
    "    #plot replicates separately\n",
    "    if plot_reps:\n",
    "        plt.plot(a[:,:8].T, \"r\")\n",
    "        plt.plot(a[:,8:].T,\"b\")\n",
    "        plt.plot(y1, \"r-\", linestyle = \"dashed\",label = \"OFF\")\n",
    "        plt.plot(y2,\"b-\", linestyle = \"dashed\",label = \"ON\")\n",
    "        plt.legend()\n",
    "        plt.figure()\n",
    "    \n",
    "    #if data is missing from one or both states, fail\n",
    "    if y1.sum() ==0 or y2.sum() == 0:\n",
    "        raise RuntimeError\n",
    "    yerr1 = np.std(a,axis = 0,dtype=np.float64)[:8]\n",
    "    yerr2 = np.std(a,axis = 0,dtype=np.float64)[8:]\n",
    "    \n",
    "    #add pseudocount to ensure no error value is 0\n",
    "    pseudoc = 5e-7\n",
    "    yerr1 = yerr1 + pseudoc\n",
    "    yerr2 = yerr2 + pseudoc\n",
    "    \n",
    "    \n",
    "    #scale both distributions together, for visually comparing distributions\n",
    "    if mode_norm:\n",
    "        yerr2 = np.array(map(lambda x: x * (max(y1)/max(y2)), yerr2))\n",
    "        y2 = np.array(map(lambda x: x * (max(y1)/max(y2)), y2))\n",
    "    \n",
    "    failed = False\n",
    "    \n",
    "    #fit Gaussian for first condition\n",
    "    def gaus_fixed_a1(x,x0,ymax,sigma):\n",
    "        return ymax*np.exp(-(x-x0)**2/sigma*2)\n",
    "    \n",
    "    def bimodal1(x,u1,ymax1,sigma1,u2,ymax2,sigma2):\n",
    "        return gaus_fixed_a1(x,u1,ymax1,sigma1)+gaus_fixed_a1(x,u2,ymax2,sigma2)\n",
    "    \n",
    "    max_bin = np.argmax(y1)\n",
    "    mode = x3[max_bin]\n",
    "    guess = [mode,max(y1),0.5,mode,max(y1),0.5] \n",
    "    popt1,pcov1 = curve_fit(bimodal1,x3,y1, sigma = yerr1,absolute_sigma=True, bounds=([0.8,0,0,0.8,0,0],[4.7,0.2,1.5,4.7,0.2,1.5]), p0 = guess, maxfev=1000)\n",
    "    perr1_1 = np.sqrt(np.diag(pcov1))\n",
    "    if popt1[1] > popt1[4]:\n",
    "        u_off = popt1[0]\n",
    "        perr1 = perr1_1[:3]\n",
    "    else:\n",
    "        u_off = popt1[3]\n",
    "        perr1 = perr1_1[3:]\n",
    "\n",
    "    \n",
    "    #fit Gaussian for second condition\n",
    "    def gaus_fixed_a2(x,x0,ymax,sigma):\n",
    "        return ymax*np.exp(-(x-x0)**2/sigma*2)\n",
    "    \n",
    "    def bimodal2(x,u1,ymax1,sigma1,u2,ymax2,sigma2):\n",
    "        return gaus_fixed_a2(x,u1,ymax1,sigma1)+gaus_fixed_a2(x,u2,ymax2,sigma2)\n",
    "    \n",
    "    max_bin = np.argmax(y2)\n",
    "    mode = x3[max_bin]\n",
    "    guess = [mode,max(y2),0.5,mode,max(y2),0.5] \n",
    "    popt2,pcov2 = curve_fit(bimodal2,x3,y2, sigma = yerr2,absolute_sigma=True, bounds=([0.8,0,0,0.8,0,0],[4.7,1,1.5,4.7,1,1.5]), p0 = guess, maxfev=1000)\n",
    "    perr2_1 = np.sqrt(np.diag(pcov2))\n",
    "    if popt2[1] > popt2[4]:\n",
    "        u_on = popt2[0]\n",
    "        perr2 = perr2_1[:3]\n",
    "    else:\n",
    "        u_on = popt2[3]\n",
    "        perr2 = perr2_1[3:]\n",
    "\n",
    "    fold_ind = 10**(u_on-u_off)\n",
    "    \n",
    "    #plot double bar graph\n",
    "    if plot:\n",
    "        plt.axvspan(u_off,u_on, facecolor='g',alpha = 0.1)\n",
    "        opacity = 0.3\n",
    "        error_config = {'ecolor': '0.3'}\n",
    "        rects1 = plt.bar(x3,y1,.43,color='r',yerr = yerr1, error_kw=error_config, alpha=opacity, label = \"OFF\")\n",
    "        rects2 = plt.bar(x3,y2,.43,color='b',yerr = yerr2, error_kw=error_config, alpha=opacity, label = \"ON\")\n",
    "\n",
    "        plt.plot(np.arange(min(x3)-1, max(x3)+1, 0.1),bimodal1(np.arange(min(x3)-1, max(x3)+1, 0.1),*popt1),'r', alpha = 0.8)\n",
    "        plt.plot(np.arange(min(x3)-1, max(x3)+1, 0.1),bimodal2(np.arange(min(x3)-1, max(x3)+1, 0.1),*popt2), 'b', alpha = 0.8)\n",
    "        plt.ylabel(\"frequency in gate\")\n",
    "        plt.xlabel(\"log10( YFP )\")\n",
    "        plt.legend(loc = 2)\n",
    "        plt.ylim([0,1.1*max(max(yerr1+y1) , max(yerr2+y2))])\n",
    "        if title:\n",
    "            title = str(ind)\n",
    "            plt.savefig(\"gaussfit_OmpR\"+title+\".png\")\n",
    "        plt.figure()\n",
    "    if report_error:\n",
    "        return u_on,u_off,perr1,perr2\n",
    "    else:\n",
    "        return u_on,u_off,fold_ind"
   ]
  },
  {
   "cell_type": "code",
   "execution_count": 1,
   "metadata": {
    "Collapsed": "false"
   },
   "outputs": [
    {
     "ename": "NameError",
     "evalue": "name 'fit_gauss_OmpR_bimodal' is not defined",
     "output_type": "error",
     "traceback": [
      "\u001b[0;31m---------------------------------------------------------------------------\u001b[0m",
      "\u001b[0;31mNameError\u001b[0m                                 Traceback (most recent call last)",
      "\u001b[0;32m<ipython-input-1-ccaa4604a5ab>\u001b[0m in \u001b[0;36m<module>\u001b[0;34m\u001b[0m\n\u001b[0;32m----> 1\u001b[0;31m \u001b[0mfit_gauss_OmpR_bimodal\u001b[0m\u001b[0;34m(\u001b[0m\u001b[0;36m479\u001b[0m\u001b[0;34m,\u001b[0m \u001b[0mplot\u001b[0m\u001b[0;34m=\u001b[0m\u001b[0;32mTrue\u001b[0m\u001b[0;34m,\u001b[0m \u001b[0mmode_norm\u001b[0m\u001b[0;34m=\u001b[0m\u001b[0;36m0\u001b[0m\u001b[0;34m,\u001b[0m \u001b[0mplot_reps\u001b[0m \u001b[0;34m=\u001b[0m \u001b[0;32mTrue\u001b[0m\u001b[0;34m,\u001b[0m \u001b[0mreport_error\u001b[0m\u001b[0;34m=\u001b[0m\u001b[0;32mTrue\u001b[0m\u001b[0;34m,\u001b[0m \u001b[0mtitle\u001b[0m\u001b[0;34m=\u001b[0m\u001b[0;32mFalse\u001b[0m\u001b[0;34m)\u001b[0m\u001b[0;34m\u001b[0m\u001b[0;34m\u001b[0m\u001b[0m\n\u001b[0m",
      "\u001b[0;31mNameError\u001b[0m: name 'fit_gauss_OmpR_bimodal' is not defined"
     ]
    }
   ],
   "source": [
    "fit_gauss_OmpR_bimodal(479, plot=True, mode_norm=0, plot_reps = True, report_error=True, title=False)"
   ]
  },
  {
   "cell_type": "markdown",
   "metadata": {
    "Collapsed": "true"
   },
   "source": [
    "## Going through all variants (OmpR)"
   ]
  },
  {
   "cell_type": "code",
   "execution_count": 388,
   "metadata": {
    "Collapsed": "false"
   },
   "outputs": [
    {
     "name": "stdout",
     "output_type": "stream",
     "text": [
      "0 sequences complete\n",
      "100 sequences complete\n",
      "200 sequences complete\n",
      "300 sequences complete\n",
      "400 sequences complete\n",
      "500 sequences complete\n",
      "600 sequences complete\n",
      "700 sequences complete\n",
      "800 sequences complete\n",
      "900 sequences complete\n",
      "1000 sequences complete\n",
      "1100 sequences complete\n",
      "1200 sequences complete\n",
      "3\n"
     ]
    }
   ],
   "source": [
    "# # guassian fitting all sequences with bimodal fitting, saving to CSV\n",
    "\n",
    "fit_failed = 0\n",
    "handle = open(\"gauss_fit_OmpR_bimodal_filt.csv\",'w')\n",
    "handle.write('index,mean_on,mean_off,std_on,std_off,fold_induction\\n')\n",
    "for ind in range(1201):\n",
    "    try:\n",
    "        logu_on,logu_off,perr1,perr2= fit_gauss_OmpR_bimodal(ind, report_error= True)\n",
    "        #on_counts = tcounts[ind][1:25].sum()\n",
    "#         off_counts = tcounts[ind][25:49].sum()\n",
    "        \n",
    "#         #guassian mean estimates\n",
    "        u_on = 10**logu_on\n",
    "        u_off = 10**logu_off\n",
    "        \n",
    "#         #stdev of guassian mean estimates (from curve_Fit)\n",
    "        std_on = perr1[0] * u_on/logu_on\n",
    "        std_off = perr2[0] * u_off/logu_off\n",
    "        \n",
    "#         #fold induction\n",
    "        fi = u_on/u_off\n",
    "        \n",
    "        handle.write(str(ind)+\",\"+str(logu_on)+\",\"+str(logu_off)+\",\"+str(std_on)+\",\"+str(std_off)+\",\"+str(fi)+\"\\n\")\n",
    "    except RuntimeError:\n",
    "        fit_failed += 1\n",
    "        continue\n",
    "    if ind%100 == 0:\n",
    "        print(str(ind)+' sequences complete')\n",
    "print(fit_failed)"
   ]
  },
  {
   "cell_type": "markdown",
   "metadata": {
    "Collapsed": "true"
   },
   "source": [
    "## RstA fitting"
   ]
  },
  {
   "cell_type": "code",
   "execution_count": 84,
   "metadata": {
    "Collapsed": "false"
   },
   "outputs": [],
   "source": [
    "def fit_gauss_RstA_bimodal(ind, title = False, \n",
    "              plot = False,              #plot double bar graph, with fitted Gaussian overlay\n",
    "              report_error = False,      #return error parameters from fitting\n",
    "              mode_norm = False,          #normalize plot, so bar graphs have equal y-max\n",
    "              plot_reps = False):        \n",
    "    \n",
    "    #extract normalized reads for query seq\n",
    "    a = np.zeros((3,16))\n",
    "    for rep in range(3):\n",
    "        a[rep,:8] = norm_cell_4_transpose[ind][48+rep*16:56+rep*16]\n",
    "        a[rep,8:] = norm_cell_4_transpose[ind][56+rep*16:64+rep*16]\n",
    "        a[0,7] = np.mean([norm_cell_4_transpose[ind][71],norm_cell_4_transpose[ind][87]])\n",
    "    \n",
    "    \n",
    "    #calculate mean reads/bin\n",
    "    y1 = np.mean(a,axis = 0)[:8]\n",
    "    y2 = np.mean(a,axis = 0)[8:]\n",
    "    \n",
    "    #plot replicates separately\n",
    "    if plot_reps:\n",
    "        plt.plot(a[:,:8].T, \"r\")\n",
    "        plt.plot(a[:,8:].T,\"b\")\n",
    "        plt.plot(y1, \"r-\", linestyle = \"dashed\",label = \"OFF\")\n",
    "        plt.plot(y2,\"b-\", linestyle = \"dashed\",label = \"ON\")\n",
    "        plt.legend()\n",
    "        plt.figure()\n",
    "    \n",
    "    #if data is missing from one or both states, fail\n",
    "    if y1.sum() ==0 or y2.sum() == 0:\n",
    "        raise RuntimeError\n",
    "    yerr1 = np.std(a,axis = 0,dtype=np.float64)[:8]\n",
    "    yerr2 = np.std(a,axis = 0,dtype=np.float64)[8:]\n",
    "    \n",
    "    #add pseudocount to ensure no error value is 0\n",
    "    pseudoc = 5e-7\n",
    "    yerr1 = yerr1 + pseudoc\n",
    "    yerr2 = yerr2 + pseudoc\n",
    "    \n",
    "    \n",
    "    #scale both distributions together, for visually comparing distributions\n",
    "    if mode_norm:\n",
    "        yerr2 = np.array(map(lambda x: x * (max(y1)/max(y2)), yerr2))\n",
    "        y2 = np.array(map(lambda x: x * (max(y1)/max(y2)), y2))\n",
    "    \n",
    "    failed = False\n",
    "    \n",
    "    #fit Gaussian for first condition\n",
    "    def gaus_fixed_a1(x,x0,ymax,sigma):\n",
    "        return ymax*np.exp(-(x-x0)**2/sigma*2)\n",
    "    \n",
    "    def bimodal1(x,u1,ymax1,sigma1,u2,ymax2,sigma2):\n",
    "        return gaus_fixed_a1(x,u1,ymax1,sigma1)+gaus_fixed_a1(x,u2,ymax2,sigma2)\n",
    "    \n",
    "    max_bin = np.argmax(y1)\n",
    "    mode = x3[max_bin]\n",
    "    guess = [mode,max(y1),0.5,mode,max(y1),0.5] \n",
    "    popt1,pcov1 = curve_fit(bimodal1,x3,y1, sigma = yerr1,absolute_sigma=True, bounds=([0.8,0,0,0.8,0,0],[4.7,0.2,1.5,4.7,0.2,1.5]), p0 = guess, maxfev=1000)\n",
    "    perr1_1 = np.sqrt(np.diag(pcov1))\n",
    "    if popt1[1] > popt1[4]:\n",
    "        u_off = popt1[0]\n",
    "        perr1 = perr1_1[:3]\n",
    "    else:\n",
    "        u_off = popt1[3]\n",
    "        perr1 = perr1_1[3:]\n",
    "\n",
    "    \n",
    "    #fit Gaussian for second condition\n",
    "    def gaus_fixed_a2(x,x0,ymax,sigma):\n",
    "        return ymax*np.exp(-(x-x0)**2/sigma*2)\n",
    "    \n",
    "    def bimodal2(x,u1,ymax1,sigma1,u2,ymax2,sigma2):\n",
    "        return gaus_fixed_a2(x,u1,ymax1,sigma1)+gaus_fixed_a2(x,u2,ymax2,sigma2)\n",
    "    \n",
    "    max_bin = np.argmax(y2)\n",
    "    mode = x3[max_bin]\n",
    "    guess = [mode,max(y2),0.5,mode,max(y2),0.5] \n",
    "    popt2,pcov2 = curve_fit(bimodal2,x3,y2, sigma = yerr2,absolute_sigma=True, bounds=([0.8,0,0,0.8,0,0],[4.7,0.2,1.5,4.7,0.2,1.5]), p0 = guess, maxfev=100000)\n",
    "    perr2_1 = np.sqrt(np.diag(pcov2))\n",
    "    if popt2[1] > popt2[4]:\n",
    "        u_on = popt2[0]\n",
    "        perr2 = perr2_1[:3]\n",
    "    else:\n",
    "        u_on = popt2[3]\n",
    "        perr2 = perr2_1[3:]\n",
    "\n",
    "    fold_ind = 10**(u_on-u_off)\n",
    "    \n",
    "    #plot double bar graph\n",
    "    if plot:\n",
    "        #plt.axvspan(u_off,u_on, facecolor='g',alpha = 0.1)\n",
    "        opacity = 0.6\n",
    "        error_config = {'ecolor': '0.3'}\n",
    "        #rects1 = plt.bar(x3,y1,.43,color='r',yerr = yerr1, error_kw=error_config, alpha=opacity, label = \"OFF\")\n",
    "        rects2 = plt.bar(x3,y2,.43,color='orange',yerr = yerr2, error_kw=error_config, alpha=opacity), #label = \"ON\")\n",
    "\n",
    "        #plt.plot(np.arange(min(x3)-1, max(x3)+1, 0.1),bimodal1(np.arange(min(x3)-1, max(x3)+1, 0.1),*popt1),'r', alpha = 0.8)\n",
    "        plt.plot(np.arange(min(x3)-1, max(x3)+1, 0.1),bimodal2(np.arange(min(x3)-1, max(x3)+1, 0.1),*popt2), 'darkorange')\n",
    "        plt.ylabel(\"frequency in gate\")\n",
    "        plt.xlabel(\"log10( YFP )\")\n",
    "        #plt.legend(loc = 2)\n",
    "        plt.ylim([0,1.1*max(yerr2+y2)])\n",
    "        if title:\n",
    "            title = str(ind)\n",
    "            plt.savefig(\"gaussfit_RstA\"+title+\".pdf\",dpi=600)\n",
    "        plt.figure()\n",
    "    if report_error:\n",
    "        return u_on,u_off,perr1,perr2\n",
    "    else:\n",
    "        return u_on,u_off,fold_ind"
   ]
  },
  {
   "cell_type": "code",
   "execution_count": 648,
   "metadata": {
    "Collapsed": "false"
   },
   "outputs": [
    {
     "data": {
      "text/plain": [
       "(3.930438515349049,\n",
       " 3.7919255708508337,\n",
       " array([1.85135964e-02, 5.58923583e-06, 7.93279214e-02]),\n",
       " array([5.66047355e-02, 8.72997618e-06, 1.94830516e-01]))"
      ]
     },
     "execution_count": 648,
     "metadata": {},
     "output_type": "execute_result"
    },
    {
     "data": {
      "image/png": "[encoded data removed]",
      "text/plain": [
       "<Figure size 432x288 with 1 Axes>"
      ]
     },
     "metadata": {
      "needs_background": "light"
     },
     "output_type": "display_data"
    },
    {
     "data": {
      "image/png": "[encoded data removed]",
      "text/plain": [
       "<Figure size 432x288 with 1 Axes>"
      ]
     },
     "metadata": {
      "needs_background": "light"
     },
     "output_type": "display_data"
    },
    {
     "data": {
      "text/plain": [
       "<Figure size 432x288 with 0 Axes>"
      ]
     },
     "metadata": {},
     "output_type": "display_data"
    }
   ],
   "source": [
    "fit_gauss_RstA_bimodal(787, plot=True, mode_norm=0, plot_reps = True, report_error=True, title=False)"
   ]
  },
  {
   "cell_type": "markdown",
   "metadata": {
    "Collapsed": "true"
   },
   "source": [
    "## Going through all variants (RstA)"
   ]
  },
  {
   "cell_type": "code",
   "execution_count": 389,
   "metadata": {
    "Collapsed": "false"
   },
   "outputs": [
    {
     "name": "stdout",
     "output_type": "stream",
     "text": [
      "0 sequences complete\n",
      "100 sequences complete\n",
      "200 sequences complete\n",
      "300 sequences complete\n",
      "400 sequences complete\n",
      "500 sequences complete\n",
      "600 sequences complete\n",
      "700 sequences complete\n",
      "800 sequences complete\n",
      "900 sequences complete\n",
      "1000 sequences complete\n",
      "1100 sequences complete\n",
      "1200 sequences complete\n",
      "1\n"
     ]
    }
   ],
   "source": [
    "# # guassian fitting all sequences with bimodal, saving to CSV\n",
    "\n",
    "# # can take ~1hr\n",
    "fit_failed = 0\n",
    "handle = open(\"gauss_fit_RstA_bimodal_filt.csv\",'w')\n",
    "handle.write('index,mean_on,mean_off,std_on,std_off,fold_induction\\n')\n",
    "for ind in range(1201):\n",
    "    try:\n",
    "        logu_on,logu_off,perr1,perr2= fit_gauss_RstA_bimodal(ind, report_error= True)\n",
    "        #on_counts = tcounts[ind][1:25].sum()\n",
    "#         off_counts = tcounts[ind][25:49].sum()\n",
    "        \n",
    "#         #guassian mean estimates\n",
    "        u_on = 10**logu_on\n",
    "        u_off = 10**logu_off\n",
    "        \n",
    "#         #stdev of guassian mean estimates (from curve_Fit)\n",
    "        std_on = perr1[0] * u_on/logu_on\n",
    "        std_off = perr2[0] * u_off/logu_off\n",
    "        \n",
    "#         #fold induction\n",
    "        fi = u_on/u_off\n",
    "        \n",
    "        handle.write(str(ind)+\",\"+str(logu_on)+\",\"+str(logu_off)+\",\"+str(std_on)+\",\"+str(std_off)+\",\"+str(fi)+\"\\n\")\n",
    "    except RuntimeError:\n",
    "        fit_failed += 1\n",
    "        continue\n",
    "    if ind%100 == 0:\n",
    "        print(str(ind)+' sequences complete')\n",
    "print(fit_failed)"
   ]
  },
  {
   "cell_type": "markdown",
   "metadata": {
    "Collapsed": "true"
   },
   "source": [
    "## Fitting CpxR"
   ]
  },
  {
   "cell_type": "code",
   "execution_count": 86,
   "metadata": {
    "Collapsed": "false"
   },
   "outputs": [],
   "source": [
    "def fit_gauss_CpxR_bimodal(ind, title = False, \n",
    "              plot = False,              #plot double bar graph, with fitted Gaussian overlay\n",
    "              report_error = False,      #return error parameters from fitting\n",
    "              mode_norm = False,          #normalize plot, so bar graphs have equal y-max\n",
    "              plot_reps = False):        \n",
    "    \n",
    "    #extract normalized reads for query seq\n",
    "    a = np.zeros((3,16))\n",
    "    for rep in range(3):\n",
    "        a[rep,:8] = norm_cell_4_transpose[ind][96+rep*16:104+rep*16]\n",
    "        a[rep,8:] = norm_cell_4_transpose[ind][104+rep*16:112+rep*16]\n",
    "        \n",
    "    #calculate mean reads/bin\n",
    "    y1 = np.mean(a,axis = 0)[:8]\n",
    "    y2 = np.mean(a,axis = 0)[8:]\n",
    "    \n",
    "    #plot replicates separately\n",
    "    if plot_reps:\n",
    "        plt.plot(a[:,:8].T, \"r\")\n",
    "        plt.plot(a[:,8:].T,\"b\")\n",
    "        plt.plot(y1, \"r-\", linestyle = \"dashed\",label = \"OFF\")\n",
    "        plt.plot(y2,\"b-\", linestyle = \"dashed\",label = \"ON\")\n",
    "        plt.legend()\n",
    "        plt.figure()\n",
    "    \n",
    "    #if data is missing from one or both states, fail\n",
    "    if y1.sum() ==0 or y2.sum() == 0:\n",
    "        raise RuntimeError\n",
    "    yerr1 = np.std(a,axis = 0,dtype=np.float64)[:8]\n",
    "    yerr2 = np.std(a,axis = 0,dtype=np.float64)[8:]\n",
    "    \n",
    "    #add pseudocount to ensure no error value is 0\n",
    "    pseudoc = 5e-7\n",
    "    yerr1 = yerr1 + pseudoc\n",
    "    yerr2 = yerr2 + pseudoc\n",
    "    \n",
    "    \n",
    "    #scale both distributions together, for visually comparing distributions\n",
    "    if mode_norm:\n",
    "        yerr2 = np.array(map(lambda x: x * (max(y1)/max(y2)), yerr2))\n",
    "        y2 = np.array(map(lambda x: x * (max(y1)/max(y2)), y2))\n",
    "    \n",
    "    failed = False\n",
    "    \n",
    "    #fit Gaussian for first condition\n",
    "    def gaus_fixed_a1(x,x0,ymax,sigma):\n",
    "        return ymax*np.exp(-(x-x0)**2/sigma*2)\n",
    "    \n",
    "    def bimodal1(x,u1,ymax1,sigma1,u2,ymax2,sigma2):\n",
    "        return gaus_fixed_a1(x,u1,ymax1,sigma1)+gaus_fixed_a1(x,u2,ymax2,sigma2)\n",
    "    \n",
    "    max_bin = np.argmax(y1)\n",
    "    mode = x3[max_bin]\n",
    "    guess = [mode,max(y1),0.5,mode,max(y1),0.5] \n",
    "    popt1,pcov1 = curve_fit(bimodal1,x3,y1, sigma = yerr1,absolute_sigma=True, bounds=([0.8,0,0,0.8,0,0],[4.7,0.2,1.5,4.7,0.2,1.5]), p0 = guess, maxfev=1000)\n",
    "    perr1_1 = np.sqrt(np.diag(pcov1))\n",
    "    if popt1[1] > popt1[4]:\n",
    "        u_off = popt1[0]\n",
    "        perr1 = perr1_1[:3]\n",
    "    else:\n",
    "        u_off = popt1[3]\n",
    "        perr1 = perr1_1[3:]\n",
    "\n",
    "    \n",
    "    #fit Gaussian for second condition\n",
    "    def gaus_fixed_a2(x,x0,ymax,sigma):\n",
    "        return ymax*np.exp(-(x-x0)**2/sigma*2)\n",
    "    \n",
    "    def bimodal2(x,u1,ymax1,sigma1,u2,ymax2,sigma2):\n",
    "        return gaus_fixed_a2(x,u1,ymax1,sigma1)+gaus_fixed_a2(x,u2,ymax2,sigma2)\n",
    "    \n",
    "    max_bin = np.argmax(y2)\n",
    "    mode = x3[max_bin]\n",
    "    guess = [mode,max(y2),0.5,mode,max(y2),0.5] \n",
    "    popt2,pcov2 = curve_fit(bimodal2,x3,y2, sigma = yerr2,absolute_sigma=True, bounds=([0.8,0,0,0.8,0,0],[4.7,1,1.5,4.7,1,1.5]), p0 = guess, maxfev=1000)\n",
    "    perr2_1 = np.sqrt(np.diag(pcov2))\n",
    "    if popt2[1] > popt2[4]:\n",
    "        u_on = popt2[0]\n",
    "        perr2 = perr2_1[:3]\n",
    "    else:\n",
    "        u_on = popt2[3]\n",
    "        perr2 = perr2_1[3:]\n",
    "\n",
    "    fold_ind = 10**(u_on-u_off)\n",
    "    \n",
    "    #plot double bar graph\n",
    "    if plot:\n",
    "        #plt.axvspan(u_off,u_on, facecolor='g',alpha = 0.1)\n",
    "        opacity = 0.6\n",
    "        error_config = {'ecolor': '0.3'}\n",
    "        #rects1 = plt.bar(x3,y1,.43,color='r',yerr = yerr1, error_kw=error_config, alpha=opacity, label = \"OFF\")\n",
    "        rects2 = plt.bar(x3,y2,.43,color='grey',yerr = yerr2, error_kw=error_config, alpha=opacity, label = \"ON\")\n",
    "\n",
    "        #plt.plot(np.arange(min(x3)-1, max(x3)+1, 0.1),bimodal1(np.arange(min(x3)-1, max(x3)+1, 0.1),*popt1),'r', alpha = 0.8)\n",
    "        plt.plot(np.arange(min(x3)-1, max(x3)+1, 0.1),bimodal2(np.arange(min(x3)-1, max(x3)+1, 0.1),*popt2), 'black', alpha = 0.8)\n",
    "        plt.ylabel(\"frequency in gate\")\n",
    "        plt.xlabel(\"log10( GFP )\")\n",
    "        #plt.legend(loc = 2)\n",
    "        #plt.ylim([0,1.1*max(max(yerr1+y1) , max(yerr2+y2))])\n",
    "        if title:\n",
    "            title = str(ind)\n",
    "            plt.savefig(\"gaussfit_CpxR\"+title+\".pdf\", dpi=600)\n",
    "        plt.figure()\n",
    "    if report_error:\n",
    "        return u_on,u_off,perr1,perr2\n",
    "    else:\n",
    "        return u_on,u_off,fold_ind"
   ]
  },
  {
   "cell_type": "code",
   "execution_count": 640,
   "metadata": {
    "Collapsed": "false"
   },
   "outputs": [
    {
     "data": {
      "text/plain": [
       "(3.026361267389345,\n",
       " 1.7307608869259499,\n",
       " array([1.75777034e-01, 5.14474334e-06, 5.82837891e-01]),\n",
       " array([4.15116499e-02, 1.32127319e-05, 6.91670346e-02]))"
      ]
     },
     "execution_count": 640,
     "metadata": {},
     "output_type": "execute_result"
    },
    {
     "data": {
      "image/png": "[encoded data removed]",
      "text/plain": [
       "<Figure size 432x288 with 1 Axes>"
      ]
     },
     "metadata": {
      "needs_background": "light"
     },
     "output_type": "display_data"
    },
    {
     "data": {
      "image/png": "[encoded data removed]",
      "text/plain": [
       "<Figure size 432x288 with 1 Axes>"
      ]
     },
     "metadata": {
      "needs_background": "light"
     },
     "output_type": "display_data"
    },
    {
     "data": {
      "text/plain": [
       "<Figure size 432x288 with 0 Axes>"
      ]
     },
     "metadata": {},
     "output_type": "display_data"
    }
   ],
   "source": [
    "fit_gauss_CpxR_bimodal(41, plot=True, mode_norm=0, plot_reps = True, title=False, report_error=True )"
   ]
  },
  {
   "cell_type": "markdown",
   "metadata": {
    "Collapsed": "true"
   },
   "source": [
    "## Going through all variants (CpxR)"
   ]
  },
  {
   "cell_type": "code",
   "execution_count": 390,
   "metadata": {
    "Collapsed": "false"
   },
   "outputs": [
    {
     "name": "stdout",
     "output_type": "stream",
     "text": [
      "0 sequences complete\n",
      "100 sequences complete\n",
      "200 sequences complete\n",
      "300 sequences complete\n",
      "400 sequences complete\n",
      "500 sequences complete\n",
      "600 sequences complete\n",
      "700 sequences complete\n",
      "800 sequences complete\n",
      "900 sequences complete\n",
      "1000 sequences complete\n",
      "1100 sequences complete\n",
      "1200 sequences complete\n",
      "0\n"
     ]
    }
   ],
   "source": [
    "# # guassian fitting all sequences with bimodal, saving to CSV\n",
    "\n",
    "# # can take ~1hr\n",
    "fit_failed = 0\n",
    "handle = open(\"gauss_fit_CpxR_bimodal_filt.csv\",'w')\n",
    "handle.write('index,mean_on,mean_off,std_on,std_off,fold_induction\\n')\n",
    "for ind in range(1201):\n",
    "    try:\n",
    "        logu_on,logu_off,perr1,perr2= fit_gauss_CpxR_bimodal(ind, report_error= True)\n",
    "        #on_counts = tcounts[ind][1:25].sum()\n",
    "#         off_counts = tcounts[ind][25:49].sum()\n",
    "        \n",
    "#         #guassian mean estimates\n",
    "        u_on = 10**logu_on\n",
    "        u_off = 10**logu_off\n",
    "        \n",
    "#         #stdev of guassian mean estimates (from curve_Fit)\n",
    "        std_on = perr1[0] * u_on/logu_on\n",
    "        std_off = perr2[0] * u_off/logu_off\n",
    "        \n",
    "#         #fold induction\n",
    "        fi = u_on/u_off\n",
    "        \n",
    "        handle.write(str(ind)+\",\"+str(logu_on)+\",\"+str(logu_off)+\",\"+str(std_on)+\",\"+str(std_off)+\",\"+str(fi)+\"\\n\")\n",
    "    except RuntimeError:\n",
    "        fit_failed += 1\n",
    "        continue\n",
    "    if ind%100 == 0:\n",
    "        print(str(ind)+' sequences complete')\n",
    "print(fit_failed)"
   ]
  }
 ],
 "metadata": {
  "kernelspec": {
   "display_name": "common_py3",
   "language": "python",
   "name": "common_py3"
  },
  "language_info": {
   "codemirror_mode": {
    "name": "ipython",
    "version": 3
   },
   "file_extension": ".py",
   "mimetype": "text/x-python",
   "name": "python",
   "nbconvert_exporter": "python",
   "pygments_lexer": "ipython3",
   "version": "3.6.7"
  }
 },
 "nbformat": 4,
 "nbformat_minor": 4
}
